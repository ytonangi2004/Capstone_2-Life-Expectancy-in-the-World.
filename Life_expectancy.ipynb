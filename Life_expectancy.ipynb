{
 "cells": [
  {
   "cell_type": "markdown",
   "metadata": {},
   "source": [
    "Capstone-Guided-Step 2\n",
    "Python script:  Life_expectancy.ipynb"
   ]
  },
  {
   "cell_type": "code",
   "execution_count": 1,
   "metadata": {},
   "outputs": [],
   "source": [
    "### Part-1 Get modules\n",
    "import pandas as pd\n",
    "import numpy as np\n",
    "import matplotlib.pyplot as plt\n",
    "import sklearn\n",
    "import warnings\n",
    "warnings.filterwarnings('ignore')"
   ]
  },
  {
   "cell_type": "code",
   "execution_count": 2,
   "metadata": {},
   "outputs": [],
   "source": [
    "### Part-6 ### Saved for plotting and other"
   ]
  },
  {
   "cell_type": "code",
   "execution_count": 3,
   "metadata": {},
   "outputs": [
    {
     "name": "stdout",
     "output_type": "stream",
     "text": [
      "(2938, 22) <--before\n",
      "(183, 22) <--After\n"
     ]
    }
   ],
   "source": [
    "### Part-2 Get for 2015 \n",
    "### colNames = ['Year', 'Adult Mortality', 'infant deaths', 'Alcohol', 'percentage expenditure', 'Hepatitis B', 'Measles', 'BMI',\n",
    "### 'under-five deaths', 'Polio', 'Total expenditure', 'Diphtheria', GDP', 'Population','Income composition of resources', 'Schooling', 'Life expectancy']\n",
    "### df = pd.read_csv(\"life_expectancy.csv\" , names=colNames)\n",
    "df = pd.read_csv(\"life_expectancy.csv\" )\n",
    "print(df.shape, '<--before')\n",
    "df = include = df[df['Year'] == 2015]\n",
    "\n",
    "df2 = df  ###. saved  to re use \"Country and \"Status ( strigs) df2..df2..df2\n",
    "\n",
    "print(df.shape, '<--After')\n",
    "### print(df.head(30))"
   ]
  },
  {
   "cell_type": "code",
   "execution_count": 4,
   "metadata": {},
   "outputs": [
    {
     "name": "stdout",
     "output_type": "stream",
     "text": [
      "Index(['Country', 'Year', 'Status', 'Life expectancy ', 'Adult Mortality',\n",
      "       'infant deaths', 'Alcohol', 'percentage expenditure', 'Hepatitis B',\n",
      "       'Measles ', ' BMI ', 'under-five deaths ', 'Polio', 'Total expenditure',\n",
      "       'Diphtheria ', ' HIV/AIDS', 'GDP', 'Population',\n",
      "       ' thinness  1-19 years', ' thinness 5-9 years',\n",
      "       'Income composition of resources', 'Schooling'],\n",
      "      dtype='object')\n"
     ]
    },
    {
     "data": {
      "text/plain": [
       "(183, 11)"
      ]
     },
     "execution_count": 4,
     "metadata": {},
     "output_type": "execute_result"
    }
   ],
   "source": [
    "### Part-3 drop columns\n",
    "### drop columns cause issues being non-numeric and columns could not be used\n",
    "print(df.columns)\n",
    "df = df.drop(['Alcohol','Measles ', 'under-five deaths ', 'Polio', 'percentage expenditure'], axis=1)\n",
    "df = df.drop(['Country', 'Status', 'Total expenditure', ' HIV/AIDS' ], axis=1)\n",
    "df = df.drop([' thinness  1-19 years', ' thinness 5-9 years', ], axis=1)\n",
    "df.shape"
   ]
  },
  {
   "cell_type": "code",
   "execution_count": 5,
   "metadata": {},
   "outputs": [
    {
     "data": {
      "text/plain": [
       "Year                               0\n",
       "Life expectancy                    0\n",
       "Adult Mortality                    0\n",
       "infant deaths                      0\n",
       "Hepatitis B                        0\n",
       " BMI                               0\n",
       "Diphtheria                         0\n",
       "GDP                                0\n",
       "Population                         0\n",
       "Income composition of resources    0\n",
       "Schooling                          0\n",
       "dtype: int64"
      ]
     },
     "execution_count": 5,
     "metadata": {},
     "output_type": "execute_result"
    }
   ],
   "source": [
    "### Part-4 ### replace NANs & Nulls with mean\n",
    "df.isnull().sum()\n",
    "\n",
    "for column, value in df.items():\n",
    "     if df[column].dtype == np.number:\n",
    "         df[column] = df[column].fillna(df[column].mean())\n",
    "\n",
    "df.isnull().sum()"
   ]
  },
  {
   "cell_type": "code",
   "execution_count": 6,
   "metadata": {},
   "outputs": [
    {
     "data": {
      "text/plain": [
       "Index(['Year', 'Adult Mortality', 'infant deaths', 'Hepatitis B', ' BMI ',\n",
       "       'Diphtheria ', 'GDP', 'Population', 'Income composition of resources',\n",
       "       'Schooling', 'Life expectancy '],\n",
       "      dtype='object')"
      ]
     },
     "execution_count": 6,
     "metadata": {},
     "output_type": "execute_result"
    }
   ],
   "source": [
    "### Part-5 reorder columns to  make \"Life expectancy the target (y)\", the last column\n",
    "df.columns\n",
    "df = df.reindex(columns= ['Year', 'Adult Mortality',\n",
    "       'infant deaths', 'Hepatitis B', ' BMI ', 'Diphtheria ', 'GDP',\n",
    "       'Population', 'Income composition of resources', 'Schooling', 'Life expectancy '])\n",
    "df.columns"
   ]
  },
  {
   "cell_type": "code",
   "execution_count": null,
   "metadata": {},
   "outputs": [],
   "source": []
  },
  {
   "cell_type": "code",
   "execution_count": null,
   "metadata": {},
   "outputs": [],
   "source": []
  },
  {
   "cell_type": "code",
   "execution_count": 7,
   "metadata": {},
   "outputs": [
    {
     "name": "stdout",
     "output_type": "stream",
     "text": [
      "(183, 11)\n",
      "Index(['Year', 'Adult Mortality', 'infant deaths', 'Hepatitis B', ' BMI ',\n",
      "       'Diphtheria ', 'GDP', 'Population', 'Income composition of resources',\n",
      "       'Schooling', 'Life expectancy '],\n",
      "      dtype='object')\n"
     ]
    }
   ],
   "source": [
    "### Part-7 ### create model X-features and y target\n",
    "print(df.shape)\n",
    "print(df.columns)\n",
    "X = df.drop(['Life expectancy '],axis=1).values\n",
    "y = df[['Life expectancy ']]\n",
    "y = np.ravel(y)   ### 2d array to horizontal 1d array\n",
    "### print(y)\n",
    "### print(X)"
   ]
  },
  {
   "cell_type": "code",
   "execution_count": 8,
   "metadata": {},
   "outputs": [],
   "source": [
    "### part-8:  80% for training and 20% for testing\n",
    "from sklearn.model_selection import train_test_split\n",
    "from sklearn.ensemble import RandomForestRegressor\n",
    "regressor = RandomForestRegressor(n_estimators=20,random_state=0)\n",
    "X_train, X_test, y_train, y_test = train_test_split(X, y, test_size=0.2)\n",
    "regressor.fit(X_train,y_train)\n",
    "rf = RandomForestRegressor()\n",
    "rf.fit(X_train,y_train)\n",
    "pred = rf.predict(X_test)\n",
    "y_pred = regressor.predict(X_test)\n",
    "### print(pred)"
   ]
  },
  {
   "cell_type": "code",
   "execution_count": 9,
   "metadata": {},
   "outputs": [],
   "source": [
    "### Scatter plots and correlations\n",
    "### print(df2.columns)\n",
    "X1 = df2.loc[:,['Country']]           \n",
    "X2 = df2.loc[:,['Status']]\n",
    "X3 = df2.loc[:,['Life expectancy ']]      \n",
    "X4 = df2.loc[:,['Adult Mortality']]   ### has a strong negative relation(-.79)\n",
    "X5 = df2.loc[:,['infant deaths']]     ### has no relation\n",
    "X6 = df2.loc[:,[' BMI ']]             ### has  relation (52% )\n",
    "X7 = df2.loc[:,['GDP']]               ### has some  relation\n",
    "X8 = df2.loc[:,['Schooling']]         ### has good positive relation (82%)"
   ]
  },
  {
   "cell_type": "code",
   "execution_count": 10,
   "metadata": {},
   "outputs": [
    {
     "name": "stdout",
     "output_type": "stream",
     "text": [
      "\n",
      "-0.7791194739614956 Correlation between Adult Mortality and Life expectancy\n",
      "\n",
      "\n",
      "-0.2412895446711374 Correlation between Infant Deaths and Life expectancy\n",
      "\n",
      "\n",
      "0.5166630677405107 Correlation between Body Mass Index and Life expectancy\n",
      "\n",
      "\n",
      "0.45449101339989056 Correlation between GDP and Life expectancy\n",
      "\n",
      "\n",
      "0.8181594367888713 Correlation between Schooling and Life expectancy\n",
      "\n"
     ]
    }
   ],
   "source": [
    "### Correlation between Adult Mortality and life expectancy\n",
    "print()\n",
    "correlation = df2['Adult Mortality'].corr(df2['Life expectancy '])\n",
    "print(correlation, 'Correlation between Adult Mortality and Life expectancy')\n",
    "print()\n",
    "### Correlation between Infant Deaths and life expectancy\n",
    "print()\n",
    "correlation = df2['infant deaths'].corr(df2['Life expectancy '])\n",
    "print(correlation, 'Correlation between Infant Deaths and Life expectancy')\n",
    "print()\n",
    "### Correlation between BMI and life expectancy\n",
    "print()\n",
    "correlation = df2[' BMI '].corr(df2['Life expectancy '])\n",
    "print(correlation, 'Correlation between Body Mass Index and Life expectancy')\n",
    "print()\n",
    "### Correlation between GDP and life expectancy\n",
    "print()\n",
    "correlation = df2['GDP'].corr(df2['Life expectancy '])\n",
    "print(correlation, 'Correlation between GDP and Life expectancy')\n",
    "print()\n",
    "### Correlation between Schooling and life expectancy\n",
    "print()\n",
    "correlation = df2['Schooling'].corr(df2['Life expectancy '])\n",
    "print(correlation, 'Correlation between Schooling and Life expectancy')\n",
    "print()"
   ]
  },
  {
   "cell_type": "code",
   "execution_count": 11,
   "metadata": {},
   "outputs": [
    {
     "data": {
      "image/png": "[encoded data removed]",
      "text/plain": [
       "<Figure size 432x288 with 1 Axes>"
      ]
     },
     "metadata": {
      "needs_background": "light"
     },
     "output_type": "display_data"
    },
    {
     "data": {
      "image/png": "[encoded data removed]",
      "text/plain": [
       "<Figure size 432x288 with 1 Axes>"
      ]
     },
     "metadata": {
      "needs_background": "light"
     },
     "output_type": "display_data"
    },
    {
     "data": {
      "image/png": "[encoded data removed]",
      "text/plain": [
       "<Figure size 432x288 with 1 Axes>"
      ]
     },
     "metadata": {
      "needs_background": "light"
     },
     "output_type": "display_data"
    },
    {
     "data": {
      "image/png": "[encoded data removed]",
      "text/plain": [
       "<Figure size 432x288 with 1 Axes>"
      ]
     },
     "metadata": {
      "needs_background": "light"
     },
     "output_type": "display_data"
    },
    {
     "data": {
      "image/png": "[encoded data removed]",
      "text/plain": [
       "<Figure size 432x288 with 1 Axes>"
      ]
     },
     "metadata": {
      "needs_background": "light"
     },
     "output_type": "display_data"
    }
   ],
   "source": [
    "###++++++++++++++++++++++++++\n",
    "### plt.scatter(X1, y, color = 'blue')\n",
    "### plt.title('Country versus Life Expectancy')\n",
    "### plt.xlabel('Country')\n",
    "### plt.ylabel('Life expectancy ')\n",
    "### plt.show()\n",
    "###++++++++++++++++++++++++++\n",
    "### plt.scatter(X2, y, color = 'red')\n",
    "### plt.title('Status versus Life Expectancy')\n",
    "### plt.xlabel('Status')\n",
    "### plt.ylabel('Life expectancy ')\n",
    "### plt.show()\n",
    "###++++++++++++++++++++++++++\n",
    "plt.scatter(X4, y, color = 'red')\n",
    "plt.title('Adult Mortality versus Life Expectancy')\n",
    "plt.xlabel('Adult Mortality')\n",
    "plt.ylabel('Life expectancy ')\n",
    "plt.show()\n",
    "###++++++++++++++++++++++++++\n",
    "plt.scatter(X5, y, color = 'green')\n",
    "plt.title('Infant Deaths versus Life Expectancy')\n",
    "plt.xlabel('infant deaths')\n",
    "plt.ylabel('Life expectancy ')\n",
    "plt.show()\n",
    "###++++++++++++++++++++++++++\n",
    "plt.scatter(X6, y, color = 'blue')\n",
    "plt.title('BMI  versus Life Expectancy')\n",
    "plt.xlabel(' BMI ')\n",
    "plt.ylabel('Life expectancy ')\n",
    "plt.show()\n",
    "###++++++++++++++++++++++++++\n",
    "plt.scatter(X7, y, color = 'green')\n",
    "plt.title('GDP  versus Life Expectancy')\n",
    "plt.xlabel('GDP')\n",
    "plt.ylabel('Life expectancy ')\n",
    "plt.show()\n",
    "###++++++++++++++++++++++++++\n",
    "plt.scatter(X8, y, color = 'blue')\n",
    "plt.title('Schooling versus Life Expectancy')\n",
    "plt.xlabel('Schooling')\n",
    "plt.ylabel('Life expectancy ')\n",
    "plt.show()\n",
    "###++++++++++++++++++++++++++"
   ]
  },
  {
   "cell_type": "code",
   "execution_count": 12,
   "metadata": {},
   "outputs": [
    {
     "name": "stdout",
     "output_type": "stream",
     "text": [
      "Index(['Country', 'Year', 'Status', 'Life expectancy ', 'Adult Mortality',\n",
      "       'infant deaths', 'Alcohol', 'percentage expenditure', 'Hepatitis B',\n",
      "       'Measles ', ' BMI ', 'under-five deaths ', 'Polio', 'Total expenditure',\n",
      "       'Diphtheria ', ' HIV/AIDS', 'GDP', 'Population',\n",
      "       ' thinness  1-19 years', ' thinness 5-9 years',\n",
      "       'Income composition of resources', 'Schooling'],\n",
      "      dtype='object')\n"
     ]
    },
    {
     "data": {
      "text/html": [
       "<div>\n",
       "<style scoped>\n",
       "    .dataframe tbody tr th:only-of-type {\n",
       "        vertical-align: middle;\n",
       "    }\n",
       "\n",
       "    .dataframe tbody tr th {\n",
       "        vertical-align: top;\n",
       "    }\n",
       "\n",
       "    .dataframe thead th {\n",
       "        text-align: right;\n",
       "    }\n",
       "</style>\n",
       "<table border=\"1\" class=\"dataframe\">\n",
       "  <thead>\n",
       "    <tr style=\"text-align: right;\">\n",
       "      <th></th>\n",
       "      <th>Country</th>\n",
       "      <th>Year</th>\n",
       "      <th>Status</th>\n",
       "      <th>Life expectancy</th>\n",
       "      <th>Adult Mortality</th>\n",
       "      <th>infant deaths</th>\n",
       "      <th>Alcohol</th>\n",
       "      <th>percentage expenditure</th>\n",
       "      <th>Hepatitis B</th>\n",
       "      <th>Measles</th>\n",
       "      <th>...</th>\n",
       "      <th>Polio</th>\n",
       "      <th>Total expenditure</th>\n",
       "      <th>Diphtheria</th>\n",
       "      <th>HIV/AIDS</th>\n",
       "      <th>GDP</th>\n",
       "      <th>Population</th>\n",
       "      <th>thinness  1-19 years</th>\n",
       "      <th>thinness 5-9 years</th>\n",
       "      <th>Income composition of resources</th>\n",
       "      <th>Schooling</th>\n",
       "    </tr>\n",
       "  </thead>\n",
       "  <tbody>\n",
       "    <tr>\n",
       "      <th>2297</th>\n",
       "      <td>Sierra Leone</td>\n",
       "      <td>2015</td>\n",
       "      <td>Developing</td>\n",
       "      <td>51.0</td>\n",
       "      <td>413.0</td>\n",
       "      <td>22</td>\n",
       "      <td>NaN</td>\n",
       "      <td>0.0</td>\n",
       "      <td>86.0</td>\n",
       "      <td>607</td>\n",
       "      <td>...</td>\n",
       "      <td>86.0</td>\n",
       "      <td>NaN</td>\n",
       "      <td>86.0</td>\n",
       "      <td>0.5</td>\n",
       "      <td>587.538233</td>\n",
       "      <td>723725.0</td>\n",
       "      <td>7.4</td>\n",
       "      <td>7.3</td>\n",
       "      <td>0.431</td>\n",
       "      <td>9.5</td>\n",
       "    </tr>\n",
       "    <tr>\n",
       "      <th>48</th>\n",
       "      <td>Angola</td>\n",
       "      <td>2015</td>\n",
       "      <td>Developing</td>\n",
       "      <td>52.4</td>\n",
       "      <td>335.0</td>\n",
       "      <td>66</td>\n",
       "      <td>NaN</td>\n",
       "      <td>0.0</td>\n",
       "      <td>64.0</td>\n",
       "      <td>118</td>\n",
       "      <td>...</td>\n",
       "      <td>7.0</td>\n",
       "      <td>NaN</td>\n",
       "      <td>64.0</td>\n",
       "      <td>1.9</td>\n",
       "      <td>3695.793748</td>\n",
       "      <td>2785935.0</td>\n",
       "      <td>8.3</td>\n",
       "      <td>8.2</td>\n",
       "      <td>0.531</td>\n",
       "      <td>11.4</td>\n",
       "    </tr>\n",
       "    <tr>\n",
       "      <th>512</th>\n",
       "      <td>Central African Republic</td>\n",
       "      <td>2015</td>\n",
       "      <td>Developing</td>\n",
       "      <td>52.5</td>\n",
       "      <td>397.0</td>\n",
       "      <td>15</td>\n",
       "      <td>NaN</td>\n",
       "      <td>0.0</td>\n",
       "      <td>47.0</td>\n",
       "      <td>150</td>\n",
       "      <td>...</td>\n",
       "      <td>47.0</td>\n",
       "      <td>NaN</td>\n",
       "      <td>47.0</td>\n",
       "      <td>4.4</td>\n",
       "      <td>348.381417</td>\n",
       "      <td>45461.0</td>\n",
       "      <td>8.2</td>\n",
       "      <td>8.2</td>\n",
       "      <td>0.347</td>\n",
       "      <td>7.1</td>\n",
       "    </tr>\n",
       "    <tr>\n",
       "      <th>528</th>\n",
       "      <td>Chad</td>\n",
       "      <td>2015</td>\n",
       "      <td>Developing</td>\n",
       "      <td>53.1</td>\n",
       "      <td>356.0</td>\n",
       "      <td>46</td>\n",
       "      <td>NaN</td>\n",
       "      <td>0.0</td>\n",
       "      <td>46.0</td>\n",
       "      <td>418</td>\n",
       "      <td>...</td>\n",
       "      <td>52.0</td>\n",
       "      <td>NaN</td>\n",
       "      <td>46.0</td>\n",
       "      <td>2.8</td>\n",
       "      <td>777.248751</td>\n",
       "      <td>149413.0</td>\n",
       "      <td>8.5</td>\n",
       "      <td>8.4</td>\n",
       "      <td>0.394</td>\n",
       "      <td>7.3</td>\n",
       "    </tr>\n",
       "    <tr>\n",
       "      <th>432</th>\n",
       "      <td>Côte d'Ivoire</td>\n",
       "      <td>2015</td>\n",
       "      <td>Developing</td>\n",
       "      <td>53.3</td>\n",
       "      <td>397.0</td>\n",
       "      <td>57</td>\n",
       "      <td>NaN</td>\n",
       "      <td>0.0</td>\n",
       "      <td>83.0</td>\n",
       "      <td>65</td>\n",
       "      <td>...</td>\n",
       "      <td>81.0</td>\n",
       "      <td>NaN</td>\n",
       "      <td>83.0</td>\n",
       "      <td>1.9</td>\n",
       "      <td>NaN</td>\n",
       "      <td>NaN</td>\n",
       "      <td>5.5</td>\n",
       "      <td>5.5</td>\n",
       "      <td>NaN</td>\n",
       "      <td>NaN</td>\n",
       "    </tr>\n",
       "    <tr>\n",
       "      <th>...</th>\n",
       "      <td>...</td>\n",
       "      <td>...</td>\n",
       "      <td>...</td>\n",
       "      <td>...</td>\n",
       "      <td>...</td>\n",
       "      <td>...</td>\n",
       "      <td>...</td>\n",
       "      <td>...</td>\n",
       "      <td>...</td>\n",
       "      <td>...</td>\n",
       "      <td>...</td>\n",
       "      <td>...</td>\n",
       "      <td>...</td>\n",
       "      <td>...</td>\n",
       "      <td>...</td>\n",
       "      <td>...</td>\n",
       "      <td>...</td>\n",
       "      <td>...</td>\n",
       "      <td>...</td>\n",
       "      <td>...</td>\n",
       "      <td>...</td>\n",
       "    </tr>\n",
       "    <tr>\n",
       "      <th>1314</th>\n",
       "      <td>Japan</td>\n",
       "      <td>2015</td>\n",
       "      <td>Developed</td>\n",
       "      <td>83.7</td>\n",
       "      <td>55.0</td>\n",
       "      <td>2</td>\n",
       "      <td>NaN</td>\n",
       "      <td>0.0</td>\n",
       "      <td>NaN</td>\n",
       "      <td>35</td>\n",
       "      <td>...</td>\n",
       "      <td>99.0</td>\n",
       "      <td>NaN</td>\n",
       "      <td>96.0</td>\n",
       "      <td>0.1</td>\n",
       "      <td>34474.137360</td>\n",
       "      <td>127141.0</td>\n",
       "      <td>2.1</td>\n",
       "      <td>1.8</td>\n",
       "      <td>0.902</td>\n",
       "      <td>15.3</td>\n",
       "    </tr>\n",
       "    <tr>\n",
       "      <th>673</th>\n",
       "      <td>Cyprus</td>\n",
       "      <td>2015</td>\n",
       "      <td>Developed</td>\n",
       "      <td>85.0</td>\n",
       "      <td>52.0</td>\n",
       "      <td>0</td>\n",
       "      <td>NaN</td>\n",
       "      <td>0.0</td>\n",
       "      <td>97.0</td>\n",
       "      <td>0</td>\n",
       "      <td>...</td>\n",
       "      <td>97.0</td>\n",
       "      <td>NaN</td>\n",
       "      <td>97.0</td>\n",
       "      <td>0.1</td>\n",
       "      <td>2375.112700</td>\n",
       "      <td>116985.0</td>\n",
       "      <td>1.0</td>\n",
       "      <td>1.0</td>\n",
       "      <td>0.854</td>\n",
       "      <td>14.3</td>\n",
       "    </tr>\n",
       "    <tr>\n",
       "      <th>544</th>\n",
       "      <td>Chile</td>\n",
       "      <td>2015</td>\n",
       "      <td>Developing</td>\n",
       "      <td>85.0</td>\n",
       "      <td>82.0</td>\n",
       "      <td>2</td>\n",
       "      <td>NaN</td>\n",
       "      <td>0.0</td>\n",
       "      <td>97.0</td>\n",
       "      <td>9</td>\n",
       "      <td>...</td>\n",
       "      <td>96.0</td>\n",
       "      <td>NaN</td>\n",
       "      <td>96.0</td>\n",
       "      <td>0.1</td>\n",
       "      <td>13653.226400</td>\n",
       "      <td>17762681.0</td>\n",
       "      <td>0.8</td>\n",
       "      <td>0.8</td>\n",
       "      <td>0.845</td>\n",
       "      <td>16.3</td>\n",
       "    </tr>\n",
       "    <tr>\n",
       "      <th>737</th>\n",
       "      <td>Denmark</td>\n",
       "      <td>2015</td>\n",
       "      <td>Developed</td>\n",
       "      <td>86.0</td>\n",
       "      <td>71.0</td>\n",
       "      <td>0</td>\n",
       "      <td>NaN</td>\n",
       "      <td>0.0</td>\n",
       "      <td>NaN</td>\n",
       "      <td>9</td>\n",
       "      <td>...</td>\n",
       "      <td>93.0</td>\n",
       "      <td>NaN</td>\n",
       "      <td>93.0</td>\n",
       "      <td>0.1</td>\n",
       "      <td>5314.644160</td>\n",
       "      <td>5683483.0</td>\n",
       "      <td>1.1</td>\n",
       "      <td>0.9</td>\n",
       "      <td>0.923</td>\n",
       "      <td>19.2</td>\n",
       "    </tr>\n",
       "    <tr>\n",
       "      <th>2345</th>\n",
       "      <td>Slovenia</td>\n",
       "      <td>2015</td>\n",
       "      <td>Developed</td>\n",
       "      <td>88.0</td>\n",
       "      <td>74.0</td>\n",
       "      <td>0</td>\n",
       "      <td>NaN</td>\n",
       "      <td>0.0</td>\n",
       "      <td>NaN</td>\n",
       "      <td>18</td>\n",
       "      <td>...</td>\n",
       "      <td>95.0</td>\n",
       "      <td>NaN</td>\n",
       "      <td>95.0</td>\n",
       "      <td>0.1</td>\n",
       "      <td>2729.863830</td>\n",
       "      <td>263531.0</td>\n",
       "      <td>1.4</td>\n",
       "      <td>1.3</td>\n",
       "      <td>0.888</td>\n",
       "      <td>17.3</td>\n",
       "    </tr>\n",
       "  </tbody>\n",
       "</table>\n",
       "<p>183 rows × 22 columns</p>\n",
       "</div>"
      ],
      "text/plain": [
       "                       Country  Year      Status  Life expectancy   \\\n",
       "2297              Sierra Leone  2015  Developing              51.0   \n",
       "48                      Angola  2015  Developing              52.4   \n",
       "512   Central African Republic  2015  Developing              52.5   \n",
       "528                       Chad  2015  Developing              53.1   \n",
       "432              Côte d'Ivoire  2015  Developing              53.3   \n",
       "...                        ...   ...         ...               ...   \n",
       "1314                     Japan  2015   Developed              83.7   \n",
       "673                     Cyprus  2015   Developed              85.0   \n",
       "544                      Chile  2015  Developing              85.0   \n",
       "737                    Denmark  2015   Developed              86.0   \n",
       "2345                  Slovenia  2015   Developed              88.0   \n",
       "\n",
       "      Adult Mortality  infant deaths  Alcohol  percentage expenditure  \\\n",
       "2297            413.0             22      NaN                     0.0   \n",
       "48              335.0             66      NaN                     0.0   \n",
       "512             397.0             15      NaN                     0.0   \n",
       "528             356.0             46      NaN                     0.0   \n",
       "432             397.0             57      NaN                     0.0   \n",
       "...               ...            ...      ...                     ...   \n",
       "1314             55.0              2      NaN                     0.0   \n",
       "673              52.0              0      NaN                     0.0   \n",
       "544              82.0              2      NaN                     0.0   \n",
       "737              71.0              0      NaN                     0.0   \n",
       "2345             74.0              0      NaN                     0.0   \n",
       "\n",
       "      Hepatitis B  Measles   ...  Polio  Total expenditure  Diphtheria   \\\n",
       "2297         86.0       607  ...   86.0                NaN         86.0   \n",
       "48           64.0       118  ...    7.0                NaN         64.0   \n",
       "512          47.0       150  ...   47.0                NaN         47.0   \n",
       "528          46.0       418  ...   52.0                NaN         46.0   \n",
       "432          83.0        65  ...   81.0                NaN         83.0   \n",
       "...           ...       ...  ...    ...                ...          ...   \n",
       "1314          NaN        35  ...   99.0                NaN         96.0   \n",
       "673          97.0         0  ...   97.0                NaN         97.0   \n",
       "544          97.0         9  ...   96.0                NaN         96.0   \n",
       "737           NaN         9  ...   93.0                NaN         93.0   \n",
       "2345          NaN        18  ...   95.0                NaN         95.0   \n",
       "\n",
       "       HIV/AIDS           GDP  Population   thinness  1-19 years  \\\n",
       "2297        0.5    587.538233    723725.0                    7.4   \n",
       "48          1.9   3695.793748   2785935.0                    8.3   \n",
       "512         4.4    348.381417     45461.0                    8.2   \n",
       "528         2.8    777.248751    149413.0                    8.5   \n",
       "432         1.9           NaN         NaN                    5.5   \n",
       "...         ...           ...         ...                    ...   \n",
       "1314        0.1  34474.137360    127141.0                    2.1   \n",
       "673         0.1   2375.112700    116985.0                    1.0   \n",
       "544         0.1  13653.226400  17762681.0                    0.8   \n",
       "737         0.1   5314.644160   5683483.0                    1.1   \n",
       "2345        0.1   2729.863830    263531.0                    1.4   \n",
       "\n",
       "       thinness 5-9 years  Income composition of resources  Schooling  \n",
       "2297                  7.3                            0.431        9.5  \n",
       "48                    8.2                            0.531       11.4  \n",
       "512                   8.2                            0.347        7.1  \n",
       "528                   8.4                            0.394        7.3  \n",
       "432                   5.5                              NaN        NaN  \n",
       "...                   ...                              ...        ...  \n",
       "1314                  1.8                            0.902       15.3  \n",
       "673                   1.0                            0.854       14.3  \n",
       "544                   0.8                            0.845       16.3  \n",
       "737                   0.9                            0.923       19.2  \n",
       "2345                  1.3                            0.888       17.3  \n",
       "\n",
       "[183 rows x 22 columns]"
      ]
     },
     "execution_count": 12,
     "metadata": {},
     "output_type": "execute_result"
    }
   ],
   "source": [
    "### now process the df2 saved for plots\n",
    "print(df2.columns)\n",
    "df2_sorted = df2.sort_values(by= 'Life expectancy ', ascending=True)\n",
    "df2_sorted.head(400)   "
   ]
  },
  {
   "cell_type": "code",
   "execution_count": 13,
   "metadata": {},
   "outputs": [
    {
     "data": {
      "text/plain": [
       "<AxesSubplot:title={'center':'Life Expectancy versus Country'}, xlabel='Country'>"
      ]
     },
     "execution_count": 13,
     "metadata": {},
     "output_type": "execute_result"
    },
    {
     "data": {
      "image/png": "[encoded data removed]",
      "text/plain": [
       "<Figure size 432x288 with 1 Axes>"
      ]
     },
     "metadata": {},
     "output_type": "display_data"
    }
   ],
   "source": [
    "### bar plot\n",
    "df2_Country = df2_sorted.loc[:, ['Country','Life expectancy ']].head(10)\n",
    "plt.style.use('fivethirtyeight')\n",
    "df2_Country.columns = ['Country','Life Expectancy in Years']\n",
    "df2_Country.plot(x = \"Country\", y = \"Life Expectancy in Years\", kind =\"bar\", title=\"Life Expectancy versus Country\")"
   ]
  },
  {
   "cell_type": "code",
   "execution_count": 14,
   "metadata": {},
   "outputs": [
    {
     "name": "stdout",
     "output_type": "stream",
     "text": [
      "Mean Absolute Error: 2.374324324324321\n",
      "Mean Squared Error: 12.26340135135133\n",
      "Root Mean Squared Error: 3.501913955446554\n"
     ]
    }
   ],
   "source": [
    "### Final Step:  print the three model performance metrics\n",
    "from sklearn import metrics\n",
    "print('Mean Absolute Error:', metrics.mean_absolute_error(y_test, y_pred))\n",
    "print('Mean Squared Error:', metrics.mean_squared_error(y_test,y_pred))\n",
    "print('Root Mean Squared Error:', np.sqrt(metrics.mean_squared_error(y_test,y_pred)))"
   ]
  }
 ],
 "metadata": {
  "kernelspec": {
   "display_name": "Python 3",
   "language": "python",
   "name": "python3"
  },
  "language_info": {
   "codemirror_mode": {
    "name": "ipython",
    "version": 3
   },
   "file_extension": ".py",
   "mimetype": "text/x-python",
   "name": "python",
   "nbconvert_exporter": "python",
   "pygments_lexer": "ipython3",
   "version": "3.7.6"
  }
 },
 "nbformat": 4,
 "nbformat_minor": 4
}
